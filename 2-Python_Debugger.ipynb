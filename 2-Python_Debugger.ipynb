{
 "cells": [
  {
   "cell_type": "markdown",
   "id": "1e50873c-7793-4334-b5ff-29db378cc835",
   "metadata": {},
   "source": [
    "# **Python Debugger**"
   ]
  },
  {
   "cell_type": "code",
   "execution_count": 11,
   "id": "f99daac4",
   "metadata": {},
   "outputs": [],
   "source": [
    "# pip freeze\n",
    "#Comando para saber as bibliotecas Instaladas no meu computador"
   ]
  },
  {
   "cell_type": "code",
   "execution_count": 2,
   "id": "98206f08-3e6c-4b9d-bd9e-9866dacd1c59",
   "metadata": {},
   "outputs": [],
   "source": [
    "import pdb"
   ]
  },
  {
   "cell_type": "code",
   "execution_count": 4,
   "id": "4abcff7f-3cd4-48f1-986a-11b98f1ef225",
   "metadata": {},
   "outputs": [
    {
     "name": "stdout",
     "output_type": "stream",
     "text": [
      "5\n",
      "--Return--\n",
      "None\n",
      "> \u001b[0;32m/tmp/ipykernel_4776/3985959927.py\u001b[0m(7)\u001b[0;36m<module>\u001b[0;34m()\u001b[0m\n",
      "\u001b[0;32m      5 \u001b[0;31m\u001b[0mprint\u001b[0m\u001b[0;34m(\u001b[0m\u001b[0mz\u001b[0m \u001b[0;34m+\u001b[0m \u001b[0my\u001b[0m\u001b[0;34m)\u001b[0m\u001b[0;34m\u001b[0m\u001b[0;34m\u001b[0m\u001b[0m\n",
      "\u001b[0m\u001b[0;32m      6 \u001b[0;31m\u001b[0;34m\u001b[0m\u001b[0m\n",
      "\u001b[0m\u001b[0;32m----> 7 \u001b[0;31m\u001b[0mpdb\u001b[0m\u001b[0;34m.\u001b[0m\u001b[0mset_trace\u001b[0m\u001b[0;34m(\u001b[0m\u001b[0;34m)\u001b[0m\u001b[0;34m\u001b[0m\u001b[0;34m\u001b[0m\u001b[0m\n",
      "\u001b[0m\u001b[0;32m      8 \u001b[0;31m\u001b[0;31m# usa comando c para avançar e comando q para encerrar a execução\u001b[0m\u001b[0;34m\u001b[0m\u001b[0;34m\u001b[0m\u001b[0m\n",
      "\u001b[0m\u001b[0;32m      9 \u001b[0;31m\u001b[0mprint\u001b[0m\u001b[0;34m(\u001b[0m\u001b[0mx\u001b[0m \u001b[0;34m+\u001b[0m \u001b[0my\u001b[0m\u001b[0;34m)\u001b[0m\u001b[0;34m\u001b[0m\u001b[0;34m\u001b[0m\u001b[0m\n",
      "\u001b[0m\n"
     ]
    },
    {
     "ename": "TypeError",
     "evalue": "can only concatenate list (not \"int\") to list",
     "output_type": "error",
     "traceback": [
      "\u001b[0;31m---------------------------------------------------------------------------\u001b[0m",
      "\u001b[0;31mTypeError\u001b[0m                                 Traceback (most recent call last)",
      "Cell \u001b[0;32mIn[4], line 9\u001b[0m\n\u001b[1;32m      7\u001b[0m pdb\u001b[38;5;241m.\u001b[39mset_trace()\n\u001b[1;32m      8\u001b[0m \u001b[38;5;66;03m# usa comando c para avançar e comando q para encerrar a execução\u001b[39;00m\n\u001b[0;32m----> 9\u001b[0m \u001b[38;5;28mprint\u001b[39m(\u001b[43mx\u001b[49m\u001b[43m \u001b[49m\u001b[38;5;241;43m+\u001b[39;49m\u001b[43m \u001b[49m\u001b[43my\u001b[49m)\n",
      "\u001b[0;31mTypeError\u001b[0m: can only concatenate list (not \"int\") to list"
     ]
    }
   ],
   "source": [
    "x = [1, 2, 3]\n",
    "y = 2\n",
    "z = 3\n",
    "\n",
    "print(z + y)\n",
    "\n",
    "pdb.set_trace()\n",
    "# usa comando c para avançar e comando q para encerrar a execução\n",
    "print(x + y)"
   ]
  },
  {
   "cell_type": "markdown",
   "id": "2471c21a",
   "metadata": {},
   "source": [
    "# **Try, except e finally**"
   ]
  },
  {
   "cell_type": "code",
   "execution_count": 5,
   "id": "d038882c",
   "metadata": {},
   "outputs": [
    {
     "ename": "TypeError",
     "evalue": "can only concatenate list (not \"int\") to list",
     "output_type": "error",
     "traceback": [
      "\u001b[0;31m---------------------------------------------------------------------------\u001b[0m",
      "\u001b[0;31mTypeError\u001b[0m                                 Traceback (most recent call last)",
      "Cell \u001b[0;32mIn[5], line 5\u001b[0m\n\u001b[1;32m      1\u001b[0m x \u001b[38;5;241m=\u001b[39m [\u001b[38;5;241m1\u001b[39m, \u001b[38;5;241m2\u001b[39m, \u001b[38;5;241m3\u001b[39m]\n\u001b[1;32m      2\u001b[0m y \u001b[38;5;241m=\u001b[39m \u001b[38;5;241m1\u001b[39m\n\u001b[0;32m----> 5\u001b[0m \u001b[38;5;28mprint\u001b[39m(\u001b[43mx\u001b[49m\u001b[43m \u001b[49m\u001b[38;5;241;43m+\u001b[39;49m\u001b[43m \u001b[49m\u001b[43my\u001b[49m)\n",
      "\u001b[0;31mTypeError\u001b[0m: can only concatenate list (not \"int\") to list"
     ]
    }
   ],
   "source": [
    "x = [1, 2, 3]\n",
    "y = 1\n",
    "\n",
    "\n",
    "print(x + y)"
   ]
  },
  {
   "cell_type": "code",
   "execution_count": 12,
   "id": "13e297d5",
   "metadata": {},
   "outputs": [
    {
     "name": "stdout",
     "output_type": "stream",
     "text": [
      "Erro: can only concatenate list (not \"int\") to list\n",
      "Olá\n"
     ]
    }
   ],
   "source": [
    "x = [1, 2, 3]\n",
    "y = 1\n",
    "\n",
    "try: #Tratamento de exceção\n",
    "    x + y\n",
    "    x = 1\n",
    "    y = 1\n",
    "    \n",
    "except Exception as e: #Exceção genérica\n",
    "    print(\"Erro: {}\".format(e))\n",
    "    \n",
    "finally: #Sempre será executado\n",
    "    print(\"Olá\")"
   ]
  },
  {
   "cell_type": "markdown",
   "id": "8c67defb",
   "metadata": {},
   "source": [
    "# **Logging**"
   ]
  },
  {
   "cell_type": "code",
   "execution_count": 1,
   "id": "a3ca0c1a",
   "metadata": {},
   "outputs": [],
   "source": [
    "import logging"
   ]
  },
  {
   "cell_type": "code",
   "execution_count": 2,
   "id": "e5d330b1",
   "metadata": {},
   "outputs": [],
   "source": [
    "LOG_FORMAT = \"%(levelname)s %(asctime)s - %(message)s\""
   ]
  },
  {
   "cell_type": "code",
   "execution_count": 3,
   "id": "d21538f1",
   "metadata": {},
   "outputs": [],
   "source": [
    "logging.basicConfig(filename =\"app.log\", level = logging.DEBUG, filemode=\"w\", format=LOG_FORMAT)"
   ]
  },
  {
   "cell_type": "code",
   "execution_count": 4,
   "id": "5bbbc314",
   "metadata": {},
   "outputs": [],
   "source": [
    "log = logging.getLogger()"
   ]
  },
  {
   "cell_type": "code",
   "execution_count": 5,
   "id": "206e6938",
   "metadata": {},
   "outputs": [],
   "source": [
    "log.info(\"Olá\")\n",
    "log.critical(\"Erro grave\")\n",
    "log.debug(\"Esse Debug\")\n",
    "log.warning(\"Deu problema\")"
   ]
  },
  {
   "cell_type": "code",
   "execution_count": 6,
   "id": "3844168f",
   "metadata": {},
   "outputs": [
    {
     "data": {
      "text/plain": [
       "10"
      ]
     },
     "execution_count": 6,
     "metadata": {},
     "output_type": "execute_result"
    }
   ],
   "source": [
    "log.level"
   ]
  },
  {
   "cell_type": "code",
   "execution_count": null,
   "id": "39a649ff",
   "metadata": {},
   "outputs": [],
   "source": []
  }
 ],
 "metadata": {
  "kernelspec": {
   "display_name": "Python 3 (ipykernel)",
   "language": "python",
   "name": "python3"
  },
  "language_info": {
   "codemirror_mode": {
    "name": "ipython",
    "version": 3
   },
   "file_extension": ".py",
   "mimetype": "text/x-python",
   "name": "python",
   "nbconvert_exporter": "python",
   "pygments_lexer": "ipython3",
   "version": "3.10.12"
  }
 },
 "nbformat": 4,
 "nbformat_minor": 5
}
