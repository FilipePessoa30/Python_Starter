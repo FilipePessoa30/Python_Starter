{
 "cells": [
  {
   "cell_type": "markdown",
   "metadata": {},
   "source": [
    "# **Simulador de caos**"
   ]
  },
  {
   "cell_type": "code",
   "execution_count": 58,
   "metadata": {},
   "outputs": [
    {
     "data": {
      "text/plain": [
       "<seaborn.axisgrid.FacetGrid at 0x7fbccc9b29e0>"
      ]
     },
     "execution_count": 58,
     "metadata": {},
     "output_type": "execute_result"
    },
    {
     "data": {
      "image/png": "[encoded data removed]",
      "text/plain": [
       "<Figure size 500x500 with 1 Axes>"
      ]
     },
     "metadata": {},
     "output_type": "display_data"
    }
   ],
   "source": [
    "import random\n",
    "\n",
    "class Academia:\n",
    "    def __init__(self):\n",
    "        self.halteres = [i for i in range(0, 100) if i % 2 == 0]\n",
    "        self.porta_halteres = {}\n",
    "        self.reiniciar_o_dia()\n",
    "        \n",
    "    def reiniciar_o_dia(self):\n",
    "        self.porta_halteres = {i: i for i in self.halteres}\n",
    "        \n",
    "    def listar_halteres(self):\n",
    "        return [i for i in self.porta_halteres.values() if i != 0]\n",
    "    \n",
    "    def listar_espacos(self):\n",
    "        return [i for i, j in self.porta_halteres.items() if j == 0]\n",
    "    \n",
    "    def pegar_haltere(self, peso):\n",
    "        halt_pos = list(self.porta_halteres.values()).index(peso)\n",
    "        key_halt = list(self.porta_halteres.keys())[halt_pos]\n",
    "        self.porta_halteres[key_halt] = 0\n",
    "        return peso\n",
    "    \n",
    "    def devolver_haltere(self, pos, peso):\n",
    "        self.porta_halteres[pos] = peso\n",
    "        \n",
    "    def calcular_caos(self):\n",
    "        num_caos = [i for i, j in self.porta_halteres.items() if i != j]\n",
    "        return len(num_caos) / len(self.porta_halteres)\n",
    "\n",
    "class Usuario:\n",
    "    def __init__(self, tipo, academia):\n",
    "        self.tipo = tipo  # 1 - normal, 2 - caos\n",
    "        self.academia = academia\n",
    "        self.peso = 0\n",
    "        \n",
    "    def iniciar_treino(self):\n",
    "        lista_pesos = self.academia.listar_halteres()\n",
    "        self.peso = random.choice(lista_pesos)\n",
    "        self.academia.pegar_haltere(self.peso)\n",
    "        \n",
    "    def finalizar_treino(self):\n",
    "        espacos = self.academia.listar_espacos()\n",
    "        \n",
    "        if self.tipo == 1:\n",
    "            if self.peso in espacos:\n",
    "                self.academia.devolver_haltere(self.peso, self.peso)\n",
    "            else:\n",
    "                pos = random.choice(espacos)\n",
    "                self.academia.devolver_haltere(pos, self.peso)\n",
    "                \n",
    "        if self.tipo == 2:\n",
    "            pos = random.choice(espacos)\n",
    "            self.academia.devolver_haltere(pos, self.peso)  # Correção aqui\n",
    "            \n",
    "        self.peso = 0\n",
    "\n",
    "academia = Academia()\n",
    "usuarios = [Usuario(1, academia) for i in range(20)] \n",
    "usuarios += [Usuario(2, academia) for i in range(1)]\n",
    "\n",
    "random.shuffle(usuarios)\n",
    "\n",
    "\n",
    "list_chaos = []\n",
    "\n",
    "for k in range(50):\n",
    "    academia.reiniciar_o_dia()\n",
    "    for i in range(10):\n",
    "        random.shuffle(usuarios)\n",
    "        for user in usuarios:\n",
    "            user.iniciar_treino()\n",
    "        for user in usuarios:\n",
    "            user.finalizar_treino()\n",
    "    list_chaos += [academia.calcular_caos()]\n",
    "academia.porta_halteres\n",
    "\n",
    "\n",
    "import seaborn as sns\n",
    "\n",
    "sns.displot(list_chaos, kde=True)\n",
    "#list_chaos\n"
   ]
  },
  {
   "cell_type": "code",
   "execution_count": null,
   "metadata": {},
   "outputs": [],
   "source": []
  },
  {
   "cell_type": "code",
   "execution_count": null,
   "metadata": {},
   "outputs": [],
   "source": []
  }
 ],
 "metadata": {
  "kernelspec": {
   "display_name": "Python 3",
   "language": "python",
   "name": "python3"
  },
  "language_info": {
   "codemirror_mode": {
    "name": "ipython",
    "version": 3
   },
   "file_extension": ".py",
   "mimetype": "text/x-python",
   "name": "python",
   "nbconvert_exporter": "python",
   "pygments_lexer": "ipython3",
   "version": "3.10.12"
  }
 },
 "nbformat": 4,
 "nbformat_minor": 2
}
